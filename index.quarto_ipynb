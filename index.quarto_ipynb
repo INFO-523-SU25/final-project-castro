{
  "cells": [
    {
      "cell_type": "markdown",
      "metadata": {},
      "source": [
        "---\n",
        "title: \"Uncovering Patterns and Anomalies in Manufacturing Data\"\n",
        "subtitle: \"INFO 523 - Final Project\"\n",
        "author: \n",
        "  - name: \"Cesar Castro\"\n",
        "    affiliations:\n",
        "      - name: \"College of Information Science, University of Arizona\"\n",
        "description: \"Project description\"\n",
        "format:\n",
        "   html:\n",
        "    code-tools: true\n",
        "    code-overflow: wrap\n",
        "    embed-resources: true\n",
        "editor: visual\n",
        "execute:\n",
        "  warning: false\n",
        "  echo: false\n",
        "jupyter: python3\n",
        "---\n",
        "\n",
        "## Abstract\n",
        "\n",
        "Add project abstract here."
      ],
      "id": "167293ef"
    }
  ],
  "metadata": {
    "kernelspec": {
      "name": "python3",
      "language": "python",
      "display_name": "Python 3 (ipykernel)",
      "path": "C:\\Users\\cesar\\AppData\\Roaming\\jupyter\\kernels\\python3"
    }
  },
  "nbformat": 4,
  "nbformat_minor": 5
}