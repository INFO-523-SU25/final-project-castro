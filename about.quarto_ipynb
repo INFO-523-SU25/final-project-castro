{
  "cells": [
    {
      "cell_type": "markdown",
      "metadata": {},
      "source": [
        "---\n",
        "title: \"About\"\n",
        "format: html\n",
        "editor: visual\n",
        "jupyter: python3\n",
        "---\n",
        "\n",
        "This project was developed by **Cesar Castro M.** For [INFO 523 - Data Mining and Discovery](#0) at the University of Arizona, taught by Dr. Greg Chism. The team is comprised of the following team members.\n",
        "\n",
        "-   Cesar Castro M. : Second Semester - Master in Data Science - University of Arizona."
      ],
      "id": "27376074"
    }
  ],
  "metadata": {
    "kernelspec": {
      "name": "python3",
      "language": "python",
      "display_name": "Python 3 (ipykernel)",
      "path": "C:\\Users\\cesar\\AppData\\Roaming\\jupyter\\kernels\\python3"
    }
  },
  "nbformat": 4,
  "nbformat_minor": 5
}